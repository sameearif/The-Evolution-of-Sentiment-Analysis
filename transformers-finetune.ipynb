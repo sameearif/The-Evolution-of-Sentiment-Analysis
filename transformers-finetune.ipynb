{
 "cells": [
  {
   "cell_type": "markdown",
   "id": "7f95ce74-1548-4445-9868-5fc904a62b7f",
   "metadata": {},
   "source": [
    "<h2 style=\"color:#1a237e; font-weight:bold; margin-top:20px;\">Sentiment Analysis with English & Urdu: Classical to Transformer Models</h2>\n",
    "\n",
    "**Paper:** *The Evolution of Sentiment Analysis: From Statistical Models to Pretrained Multilingual Transformers*  \n",
    "**Authors:** Samee Arif, Moaiz Abrar\n",
    "\n",
    "**Key Questions:**\n",
    "1. How do different model types compare for English vs Urdu?\n",
    "2. What is the impact of pretrained vs custom word embeddings?\n",
    "3. Does cross-lingual training help Urdu sentiment classification?"
   ]
  },
  {
   "cell_type": "markdown",
   "id": "b62b1693-7a19-4eb7-afd9-aa26b865dddc",
   "metadata": {},
   "source": [
    "<h2 style=\"color:#1a237e; font-weight:bold; margin-top:20px;\">Setup and Imports</h2>"
   ]
  },
  {
   "cell_type": "code",
   "execution_count": null,
   "id": "81c4a437-6801-425c-b18c-96a0ba4acd21",
   "metadata": {},
   "outputs": [],
   "source": [
    "import torch\n",
    "import numpy as np\n",
    "import evaluate\n",
    "from datasets import load_dataset\n",
    "from transformers import AutoTokenizer, AutoModelForSequenceClassification, default_data_collator, TrainingArguments\n",
    "from transformers import AutoModelForSeq2SeqLM, Seq2SeqTrainer, Seq2SeqTrainingArguments\n",
    "from transformers import Trainer\n",
    "from transformers import BitsAndBytesConfig\n",
    "from trl import SFTTrainer\n",
    "from peft import LoraConfig"
   ]
  },
  {
   "cell_type": "code",
   "execution_count": null,
   "id": "0fc47a0f-2521-41ff-921d-ec41dad2b44d",
   "metadata": {},
   "outputs": [],
   "source": [
    "device = torch.device(\"cuda\" if torch.cuda.is_available() else \"mps\" if torch.backends.mps.is_available() else \"cpu\")\n",
    "language = \"english\""
   ]
  },
  {
   "cell_type": "code",
   "execution_count": null,
   "id": "33be93a7-b019-4c53-a795-c40dc2a012c4",
   "metadata": {},
   "outputs": [],
   "source": [
    "def tokenize_function(examples):\n",
    "    encoding = tokenizer(examples[\"text\"], padding=\"max_length\", max_length=128, truncation=True)\n",
    "    return encoding\n",
    "\n",
    "def compute_metrics(eval_pred):\n",
    "    logits, labels = eval_pred\n",
    "    predictions = np.argmax(logits, axis=-1)\n",
    "    return {\"accuracy\": accuracy.compute(predictions=predictions, references=labels)[\"accuracy\"]}\n",
    "\n",
    "def compute_metrics_mt5(eval_pred):\n",
    "    preds, labels = eval_pred\n",
    "    if isinstance(preds, tuple):\n",
    "        preds = preds[0]\n",
    "\n",
    "    labels = np.where(labels != -100, labels, tokenizer.pad_token_id)\n",
    "\n",
    "    decoded_preds  = tokenizer.batch_decode(preds,  skip_special_tokens=True)\n",
    "    decoded_labels = tokenizer.batch_decode(labels, skip_special_tokens=True)\n",
    "\n",
    "    cleaned_preds = []\n",
    "    cleaned_labels = []\n",
    "    for text in decoded_preds:\n",
    "        s = re.sub(r'<extra_id_\\d+>', '', text)\n",
    "        s = re.sub(r'<.*?>',      '', s)\n",
    "        s = s.strip()\n",
    "        m = re.search(r'\\d+', s)\n",
    "        cleaned_preds.append(int(m.group()) if m else -1)\n",
    "\n",
    "def compute_metrics_llama(eval_pred):\n",
    "    preds, labels = eval_pred\n",
    "    if isinstance(preds, tuple) or preds.ndim == 3:\n",
    "        preds = np.argmax(preds[0] if isinstance(preds, tuple) else preds, axis=-1)\n",
    "\n",
    "    labels = np.where(labels != -100, labels, tokenizer.pad_token_id)\n",
    "\n",
    "    decoded_preds  = tokenizer.batch_decode(preds,  skip_special_tokens=True)\n",
    "    decoded_labels = tokenizer.batch_decode(labels, skip_special_tokens=True)\n",
    "\n",
    "    def extract_int(s):\n",
    "        s = re.sub(r'<extra_id_\\d+>', '', s)\n",
    "        s = re.sub(r'<.*?>',      '', s)\n",
    "        s = s.strip()\n",
    "        m = re.search(r'-?\\d+', s)\n",
    "        return int(m.group()) if m else -1\n",
    "\n",
    "    cleaned_preds  = [extract_int(t) for t in decoded_preds]\n",
    "    cleaned_labels = [extract_int(t) for t in decoded_labels]\n",
    "\n",
    "    acc = accuracy_score(cleaned_labels, cleaned_preds)\n",
    "    return {\"accuracy\": acc}\n",
    "\n",
    "def add_prefix(example):\n",
    "    return {\"input\": f\"Sentiment: {example['text']}\", \"output\": f\"{example['label']}\"}\n",
    "\n",
    "def convert_to_features(example_batch):\n",
    "    input_encodings = tokenizer.batch_encode_plus(example_batch['input'], truncation=True, padding=\"max_length\", max_length=MAX_LENGTH)\n",
    "    target_encodings = tokenizer.batch_encode_plus(example_batch['output'], truncation=True, padding=\"max_length\", max_length=MAX_LENGTH)\n",
    "\n",
    "    encodings = {\n",
    "        'input_ids': input_encodings['input_ids'],\n",
    "        'attention_mask': input_encodings['attention_mask'],\n",
    "        'labels': target_encodings['input_ids'],\n",
    "    }\n",
    "\n",
    "    return encodings\n",
    "\n",
    "def apply_chat_template(example, tokenizer):\n",
    "    messages = example[\"messages\"]\n",
    "    if messages[0][\"role\"] != \"system\":\n",
    "        messages.insert(0, {\"role\": \"system\", \"content\": \"\"})\n",
    "    example[\"text\"] = tokenizer.apply_chat_template(messages, tokenize=False)\n",
    "    return example"
   ]
  },
  {
   "cell_type": "markdown",
   "id": "9b83f77a-b6ca-48d7-b4d7-0919fb54e77a",
   "metadata": {},
   "source": [
    "<h2 style=\"color:#1a237e; font-weight:bold; margin-top:20px;\">Fine-tuning and Evaluation</h2>"
   ]
  },
  {
   "cell_type": "markdown",
   "id": "40e2b2f4-03c6-423e-aff7-1076ea5553a4",
   "metadata": {},
   "source": [
    "<h3 style=\"color:#2a4d8f; font-weight:bold; margin-top:15px;\">1. BERT Large Uncased</h3>"
   ]
  },
  {
   "cell_type": "code",
   "execution_count": null,
   "id": "b7df2d32-ccb7-43ca-920c-5f90ab3c63c1",
   "metadata": {
    "scrolled": true
   },
   "outputs": [],
   "source": [
    "dataset_name = f\"sameearif/imdb-{language}\"\n",
    "model_name = \"google-bert/bert-large-uncased\"\n",
    "epochs = 10\n",
    "learning_rate = 5e-5\n",
    "\n",
    "raw_dataset = load_dataset(dataset_name)\n",
    "tokenizer = AutoTokenizer.from_pretrained(model_name)\n",
    "model = AutoModelForSequenceClassification.from_pretrained(model_name, num_labels=2)\n",
    "\n",
    "train_dataset = raw_dataset[\"train\"].map(tokenize_function, batched=True)\n",
    "eval_dataset = raw_dataset[\"validation\"].map(tokenize_function, batched=True)\n",
    "test_dataset = raw_dataset[\"test\"].map(tokenize_function, batched=True)\n",
    "\n",
    "accuracy = evaluate.load(\"accuracy\")\n",
    "f1_score = evaluate.load(\"f1\")"
   ]
  },
  {
   "cell_type": "code",
   "execution_count": null,
   "id": "9d99695d-e9d8-4ce0-9b61-1a51a2bc24b5",
   "metadata": {
    "scrolled": true
   },
   "outputs": [],
   "source": [
    "args = TrainingArguments(\n",
    "    num_train_epochs=epochs,\n",
    "    learning_rate=learning_rate,\n",
    "    eval_strategy = \"epoch\",\n",
    "    logging_strategy = \"epoch\",\n",
    "    save_strategy = \"epoch\",\n",
    "    per_device_train_batch_size=16,\n",
    "    per_device_eval_batch_size=16,\n",
    "    weight_decay=0.01,\n",
    "    fp16=True,\n",
    "    load_best_model_at_end=True,\n",
    "    metric_for_best_model=\"accuracy\",\n",
    "    greater_is_better=True,\n",
    ")\n",
    "data_collator = default_data_collator\n",
    "trainer = Trainer(\n",
    "    model,\n",
    "    args,\n",
    "    train_dataset=train_dataset,\n",
    "    eval_dataset=eval_dataset,\n",
    "    data_collator=data_collator,\n",
    "    tokenizer=tokenizer,\n",
    "    compute_metrics=compute_metrics,\n",
    ")\n",
    "trainer.train()"
   ]
  },
  {
   "cell_type": "code",
   "execution_count": null,
   "id": "512da4a0-54cb-4040-9965-a98d9e80f84a",
   "metadata": {},
   "outputs": [],
   "source": [
    "accuracy = trainer.evaluate(eval_dataset=test_dataset)\n",
    "print(accuracy)"
   ]
  },
  {
   "cell_type": "markdown",
   "id": "bac63d3b-fd43-426c-a41a-b9f6b4b949fd",
   "metadata": {},
   "source": [
    "<h3 style=\"color:#2a4d8f; font-weight:bold; margin-top:15px;\">2. XLM-Roberta Large</h3>"
   ]
  },
  {
   "cell_type": "code",
   "execution_count": null,
   "id": "02a88c54-dd63-4732-a4e4-aac4a6678502",
   "metadata": {},
   "outputs": [],
   "source": [
    "dataset_name = f\"sameearif/imdb-{language}\"\n",
    "model_name = \"FacebookAI/xlm-roberta-large\"\n",
    "epochs = 10\n",
    "learning_rate = 5e-5\n",
    "\n",
    "raw_dataset = load_dataset(dataset_name)\n",
    "tokenizer = AutoTokenizer.from_pretrained(model_name)\n",
    "model = AutoModelForSequenceClassification.from_pretrained(model_name, num_labels=2)\n",
    "\n",
    "train_dataset = raw_dataset[\"train\"].map(tokenize_function, batched=True)\n",
    "eval_dataset = raw_dataset[\"validation\"].map(tokenize_function, batched=True)\n",
    "test_dataset = raw_dataset[\"test\"].map(tokenize_function, batched=True)\n",
    "\n",
    "accuracy = evaluate.load(\"accuracy\")"
   ]
  },
  {
   "cell_type": "code",
   "execution_count": null,
   "id": "7535c4d6-8744-4f76-9f15-6580533d081a",
   "metadata": {},
   "outputs": [],
   "source": [
    "args = TrainingArguments(\n",
    "    num_train_epochs=epochs,\n",
    "    learning_rate=learning_rate,\n",
    "    eval_strategy = \"epoch\",\n",
    "    logging_strategy = \"epoch\",\n",
    "    save_strategy = \"epoch\",\n",
    "    per_device_train_batch_size=16,\n",
    "    per_device_eval_batch_size=16,\n",
    "    weight_decay=0.01,\n",
    "    fp16=True,\n",
    "    load_best_model_at_end=True,\n",
    "    metric_for_best_model=\"accuracy\",\n",
    "    greater_is_better=True,\n",
    ")\n",
    "data_collator = default_data_collator\n",
    "trainer = Trainer(\n",
    "    model,\n",
    "    args,\n",
    "    train_dataset=train_dataset,\n",
    "    eval_dataset=eval_dataset,\n",
    "    data_collator=data_collator,\n",
    "    tokenizer=tokenizer,\n",
    "    compute_metrics=compute_metrics,\n",
    ")\n",
    "trainer.train()"
   ]
  },
  {
   "cell_type": "code",
   "execution_count": null,
   "id": "650eca67-2008-48dd-a86a-be4e266ee3f4",
   "metadata": {},
   "outputs": [],
   "source": [
    "accuracy = trainer.evaluate(eval_dataset=test_dataset)\n",
    "print(accuracy)"
   ]
  },
  {
   "cell_type": "markdown",
   "id": "42deaa64-63ab-4e3a-8c7e-1a9ca9a08d19",
   "metadata": {},
   "source": [
    "<h3 style=\"color:#2a4d8f; font-weight:bold; margin-top:15px;\">3. mT5 Large</h3>"
   ]
  },
  {
   "cell_type": "code",
   "execution_count": null,
   "id": "a46e9c02-4aca-4d2a-bc51-88d889b8e812",
   "metadata": {},
   "outputs": [],
   "source": [
    "dataset_name = f\"sameearif/imdb-{language}\"\n",
    "model_name = \"google/mt5-large\"\n",
    "epochs = 10\n",
    "learning_rate = 5e-5\n",
    "\n",
    "model = AutoModelForSeq2SeqLM.from_pretrained(model_name)\n",
    "tokenizer = AutoTokenizer.from_pretrained(model_name)\n",
    "\n",
    "raw_dataset = load_dataset(dataset_name)\n",
    "raw_dataset[\"train\"] = raw_dataset[\"train\"].map(add_prefix, load_from_cache_file=False, num_proc=8)\n",
    "raw_dataset[\"validation\"] = raw_dataset[\"validation\"].map(add_prefix, load_from_cache_file=False, num_proc=8)\n",
    "raw_dataset[\"test\"] = raw_dataset[\"test\"].map(add_prefix, load_from_cache_file=False, num_proc=8)\n",
    "train_dataset = raw_dataset[\"train\"].map(convert_to_features, batched=True, load_from_cache_file=False, num_proc=8)\n",
    "eval_dataset = raw_dataset[\"validation\"].map(convert_to_features, batched=True, load_from_cache_file=False, num_proc=8)\n",
    "columns = ['input_ids', 'attention_mask', 'labels']\n",
    "train_dataset.set_format(type='torch', columns=columns)\n",
    "eval_dataset.set_format(type='torch', columns=columns)"
   ]
  },
  {
   "cell_type": "code",
   "execution_count": null,
   "id": "ebd563d0-abb4-4662-b902-405a0f3ab28d",
   "metadata": {},
   "outputs": [],
   "source": [
    "training_args = Seq2SeqTrainingArguments(\n",
    "    num_train_epochs=epochs,\n",
    "    eval_strategy=\"epoch\",\n",
    "    logging_strategy=\"epoch\",\n",
    "    save_strategy=\"epoch\",\n",
    "    per_device_train_batch_size=16,\n",
    "    per_device_eval_batch_size=16,\n",
    "    load_best_model_at_end=True,\n",
    "    metric_for_best_model=\"accuracy\",\n",
    "    greater_is_better=True,\n",
    "    predict_with_generate=True,\n",
    "    generation_max_length=10\n",
    ")\n",
    "data_collator = DataCollatorForSeq2Seq(tokenizer)\n",
    "trainer = Seq2SeqTrainer(\n",
    "    model=model,\n",
    "    tokenizer=tokenizer,\n",
    "    args=training_args,\n",
    "    train_dataset=train_dataset,\n",
    "    eval_dataset=eval_dataset,\n",
    "    data_collator=data_collator,\n",
    "    compute_metrics=compute_metrics_mt5\n",
    ")\n",
    "trainer.train()"
   ]
  },
  {
   "cell_type": "code",
   "execution_count": null,
   "id": "54da4b53-faa8-41eb-a442-dc8a40211372",
   "metadata": {},
   "outputs": [],
   "source": [
    "accuracy = trainer.evaluate(eval_dataset=test_dataset)\n",
    "print(accuracy)"
   ]
  },
  {
   "cell_type": "markdown",
   "id": "d6660c86-001c-42a8-a593-d1f82b46f795",
   "metadata": {},
   "source": [
    "<h3 style=\"color:#2a4d8f; font-weight:bold; margin-top:15px;\">3. Llama-3.1-8B</h3>"
   ]
  },
  {
   "cell_type": "code",
   "execution_count": null,
   "id": "f45a1173-e4b7-4152-b845-dcbfdf8af929",
   "metadata": {},
   "outputs": [],
   "source": [
    "dataset_name = f\"sameearif/imdb-{language}-llama\"\n",
    "model_name = \"meta-llama/Llama-3.1-8B-Instruct\"\n",
    "\n",
    "dataset = load_dataset(dataset_name)\n",
    "\n",
    "tokenizer = AutoTokenizer.from_pretrained(model_name)\n",
    "terminators = [\n",
    "    tokenizer.eos_token_id,\n",
    "    tokenizer.convert_tokens_to_ids(\"<|eot_id|>\")\n",
    "]\n",
    "column_names = list(dataset[\"train\"].features)\n",
    "dataset = dataset.map(apply_chat_template,\n",
    "                                num_proc=8,\n",
    "                                fn_kwargs={\"tokenizer\": tokenizer},\n",
    "                                remove_columns=column_names,\n",
    "                                desc=\"Applying chat template\")\n",
    "\n",
    "if tokenizer.pad_token_id is None:\n",
    "  tokenizer.pad_token_id = tokenizer.eos_token_id\n",
    "tokenizer.model_max_length = 512\n",
    "train_dataset = dataset[\"train\"]\n",
    "eval_dataset = dataset[\"validation\"]\n",
    "test_dataset = dataset[\"test\"]\n",
    "\n",
    "quantization_config = BitsAndBytesConfig(\n",
    "            load_in_4bit=True,\n",
    "            bnb_4bit_use_double_quant=True,\n",
    "            bnb_4bit_quant_type=\"nf4\",\n",
    "            bnb_4bit_compute_dtype=torch.bfloat16,\n",
    ")\n",
    "model_kwargs = dict(\n",
    "    torch_dtype=\"auto\",\n",
    "    use_cache=False,\n",
    "    device_map=\"auto\",\n",
    "    quantization_config=quantization_config,\n",
    ")"
   ]
  },
  {
   "cell_type": "code",
   "execution_count": null,
   "id": "ad53d3de-5848-4ded-8b6c-175b9c4d3bee",
   "metadata": {},
   "outputs": [],
   "source": [
    "training_args = TrainingArguments(\n",
    "    bf16=True,\n",
    "    do_eval=True,\n",
    "    eval_strategy=\"epoch\",\n",
    "    logging_strategy=\"epoch\",\n",
    "    save_strategy=\"epoch\",\n",
    "    gradient_accumulation_steps=1,\n",
    "    gradient_checkpointing=True,\n",
    "    gradient_checkpointing_kwargs={\"use_reentrant\": False},\n",
    "    learning_rate=2.0e-05,\n",
    "    lr_scheduler_type=\"cosine\",\n",
    "    num_train_epochs=2,\n",
    "    per_device_eval_batch_size=8,\n",
    "    per_device_train_batch_size=8,\n",
    "    hub_model_id=trained_model_id,\n",
    "    compute_metrics=compute_metrics_llama\n",
    ")\n",
    "peft_config = LoraConfig(\n",
    "    r=64,\n",
    "    lora_alpha=16,\n",
    "    lora_dropout=0.1,\n",
    "    bias=\"none\",\n",
    "    task_type=\"CAUSAL_LM\",\n",
    "    target_modules=[\"q_proj\", \"k_proj\", \"v_proj\", \"o_proj\"],\n",
    ")\n",
    "trainer = SFTTrainer(\n",
    "    model=model_id,\n",
    "    model_init_kwargs=model_kwargs,\n",
    "    args=training_args,\n",
    "    train_dataset=train_dataset,\n",
    "    eval_dataset=eval_dataset,\n",
    "    dataset_text_field=\"text\",\n",
    "    tokenizer=tokenizer,\n",
    "    packing=True,\n",
    "    peft_config=peft_config,\n",
    "    max_seq_length=tokenizer.model_max_length,\n",
    "    generation_kwargs={\"eos_token_id\": terminators}\n",
    ")\n",
    "trainer.train()"
   ]
  },
  {
   "cell_type": "code",
   "execution_count": null,
   "id": "b5f0d267-55d6-4331-a735-09a804a41108",
   "metadata": {},
   "outputs": [],
   "source": []
  }
 ],
 "metadata": {
  "kernelspec": {
   "display_name": "Python 3 (ipykernel)",
   "language": "python",
   "name": "python3"
  },
  "language_info": {
   "codemirror_mode": {
    "name": "ipython",
    "version": 3
   },
   "file_extension": ".py",
   "mimetype": "text/x-python",
   "name": "python",
   "nbconvert_exporter": "python",
   "pygments_lexer": "ipython3",
   "version": "3.13.3"
  }
 },
 "nbformat": 4,
 "nbformat_minor": 5
}
